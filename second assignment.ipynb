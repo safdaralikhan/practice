{
 "cells": [
  {
   "cell_type": "markdown",
   "metadata": {},
   "source": [
    "# The ABC company has hired you as an intern on the coding team that creates e-commerce applications.  \n",
    "You must write a script that asks the user for a value. The value must be used as a whole number in a calculation, even if the user enters a decimal value. \n",
    "\n",
    "You need to write the code to meet the requirements."
   ]
  },
  {
   "cell_type": "code",
   "execution_count": 13,
   "metadata": {},
   "outputs": [
    {
     "name": "stdout",
     "output_type": "stream",
     "text": [
      "enter the number of items 3\n",
      "3.0\n"
     ]
    }
   ],
   "source": [
    "value=float(input (\"enter the number of items \"))\n",
    "print(value)\n"
   ]
  },
  {
   "cell_type": "code",
   "execution_count": 15,
   "metadata": {},
   "outputs": [
    {
     "name": "stdout",
     "output_type": "stream",
     "text": [
      "thankyou for shopping  3 items from ABC company\n"
     ]
    }
   ],
   "source": [
    "print(\"thankyou for shopping \",int (value),\"items from ABC company\")\n"
   ]
  },
  {
   "cell_type": "markdown",
   "metadata": {},
   "source": [
    "# You are creating a Python program that shows a congratulation message to employees on their service anniversary.\n",
    "You need to calculate the number of years of service and print a congratulatory message. You should take the inputs from the users where necessary"
   ]
  },
  {
   "cell_type": "code",
   "execution_count": 20,
   "metadata": {},
   "outputs": [
    {
     "name": "stdout",
     "output_type": "stream",
     "text": [
      "enter your joining year: 2005\n"
     ]
    }
   ],
   "source": [
    "joining_year=int(input(\"enter your joining year: \"))"
   ]
  },
  {
   "cell_type": "code",
   "execution_count": 21,
   "metadata": {},
   "outputs": [
    {
     "name": "stdout",
     "output_type": "stream",
     "text": [
      "enter leaving year :2019\n"
     ]
    }
   ],
   "source": [
    "leaving_year=int(input(\"enter leaving year :\"))"
   ]
  },
  {
   "cell_type": "code",
   "execution_count": 24,
   "metadata": {},
   "outputs": [
    {
     "name": "stdout",
     "output_type": "stream",
     "text": [
      "CONGRATULATION! on your 14 Anniversary in our company\n"
     ]
    }
   ],
   "source": [
    "print(\"CONGRATULATION! on your\", leaving_year - joining_year,\"Anniversary in our company\")"
   ]
  },
  {
   "cell_type": "markdown",
   "metadata": {},
   "source": [
    "# Write a Python program to convert temperatures  from fahrenheit to celsius, \n",
    "#step 1: take \"fahrenheit Temperature\" from user in integer data type\n",
    "#step 2: apply formula that is       (  C = (5/9) * (fahrenheit_temperature - 32)  )\n",
    "#step 3: print step 2. "
   ]
  },
  {
   "cell_type": "code",
   "execution_count": 25,
   "metadata": {},
   "outputs": [
    {
     "name": "stdout",
     "output_type": "stream",
     "text": [
      "enter the value of fahrenheit temp :50\n"
     ]
    }
   ],
   "source": [
    "far=int(input(\"enter the value of fahrenheit temp :\"))"
   ]
  },
  {
   "cell_type": "code",
   "execution_count": 26,
   "metadata": {},
   "outputs": [],
   "source": [
    "celsius=(5/9)*(far-32)\n"
   ]
  },
  {
   "cell_type": "code",
   "execution_count": 28,
   "metadata": {},
   "outputs": [
    {
     "name": "stdout",
     "output_type": "stream",
     "text": [
      "the temperature in fahrenheit is 10.0 in celsius\n"
     ]
    }
   ],
   "source": [
    "print(\"the temperature in fahrenheit is\" ,(celsius),\"in celsius\")"
   ]
  },
  {
   "cell_type": "markdown",
   "metadata": {},
   "source": [
    "<h3>assign a vlue to grade by checking the following conditions:: </h3>\n",
    "<h3>if % is greater then and equal to 90 and less then 100 grade is A+ </h3>\n",
    "<h3>if % is greater then and equal to 80 and less then 90 grade is A </h3>\n",
    "<h3>if % is greater then and equal to 70 and less then 80 grade is B </h3>\n",
    "<h3>if % is greater then and equal to 60 and less then 70 grade is C </h3>\n",
    "<h3>if % is less than 60 grade is FAIL </h3>\n"
   ]
  },
  {
   "cell_type": "code",
   "execution_count": 36,
   "metadata": {},
   "outputs": [
    {
     "name": "stdout",
     "output_type": "stream",
     "text": [
      "obtain_marks : 390\n",
      "percentage : 78.0\n"
     ]
    }
   ],
   "source": [
    "DBMS=80\n",
    "MATHS=70\n",
    "ENGLISH=80\n",
    "URDU=75\n",
    "DATA_STRUCTURE=85\n",
    "total_marks=500\n",
    "obtain_marks=DBMS+MATHS+ENGLISH+URDU+DATA_STRUCTURE\n",
    "perc=(obtain_marks/total_marks)*100\n",
    "print(\"obtain_marks :\",obtain_marks)\n",
    "print(\"percentage :\",perc)"
   ]
  },
  {
   "cell_type": "code",
   "execution_count": 46,
   "metadata": {},
   "outputs": [],
   "source": [
    "grade = None\n",
    "if perc >=90 and perc <=100:\n",
    "    grade= \"A+\"\n",
    "elif perc >=80 and perc <=90:\n",
    "    grade=\"A\"\n",
    "elif perc>=70 and perc <=80:\n",
    "    grade=\"B\"\n",
    "elif perc>=60 and per <=70:\n",
    "    grade=\"C\"\n",
    "elif perc < 60:\n",
    "    grade= \"FAIL\"\n"
   ]
  },
  {
   "cell_type": "code",
   "execution_count": 47,
   "metadata": {},
   "outputs": [
    {
     "name": "stdout",
     "output_type": "stream",
     "text": [
      "B\n"
     ]
    }
   ],
   "source": [
    "print(grade)"
   ]
  },
  {
   "cell_type": "markdown",
   "metadata": {},
   "source": [
    "<h3>Print grade percentage and obtained marks</h3>"
   ]
  },
  {
   "cell_type": "code",
   "execution_count": 48,
   "metadata": {},
   "outputs": [
    {
     "name": "stdout",
     "output_type": "stream",
     "text": [
      "GRADE =  B  \n",
      " percentage 78.0  \n",
      " obtain_marks  390\n"
     ]
    }
   ],
   "source": [
    "print(\"GRADE = \",grade  , \" \\n percentage\" , perc , \" \\n obtain_marks \", obtain_marks)"
   ]
  },
  {
   "cell_type": "code",
   "execution_count": null,
   "metadata": {},
   "outputs": [],
   "source": []
  },
  {
   "cell_type": "code",
   "execution_count": null,
   "metadata": {},
   "outputs": [],
   "source": []
  }
 ],
 "metadata": {
  "kernelspec": {
   "display_name": "Python 3",
   "language": "python",
   "name": "python3"
  },
  "language_info": {
   "codemirror_mode": {
    "name": "ipython",
    "version": 3
   },
   "file_extension": ".py",
   "mimetype": "text/x-python",
   "name": "python",
   "nbconvert_exporter": "python",
   "pygments_lexer": "ipython3",
   "version": "3.7.3"
  }
 },
 "nbformat": 4,
 "nbformat_minor": 2
}
