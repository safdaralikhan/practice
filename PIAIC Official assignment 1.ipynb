{
 "cells": [
  {
   "cell_type": "markdown",
   "metadata": {},
   "source": [
    "## 1. Calculate Area of a Circle"
   ]
  },
  {
   "cell_type": "markdown",
   "metadata": {},
   "source": [
    "#### Write a Python program which accepts the radius of a circle from the user and compute the area.\n",
    "###### Program Console Sample Output 1:\n",
    "###### Input Radius: 0.5\n",
    "###### Area of Circle with radius 0.5 is 0.7853981634"
   ]
  },
  {
   "cell_type": "code",
   "execution_count": 3,
   "metadata": {},
   "outputs": [
    {
     "name": "stdout",
     "output_type": "stream",
     "text": [
      "ENTER THE VALUE OF RADIUS: 2.3\n",
      " AREA OF CIRLE WITH RADIUS 2.3 IS 16.610599999999998\n"
     ]
    }
   ],
   "source": [
    "x=float(input(\"ENTER THE VALUE OF RADIUS: \"))\n",
    "y=(3.14*(x**2))\n",
    "print(\" AREA OF CIRLE WITH RADIUS\",x, \"IS\",y)"
   ]
  },
  {
   "cell_type": "code",
   "execution_count": null,
   "metadata": {},
   "outputs": [],
   "source": []
  },
  {
   "cell_type": "code",
   "execution_count": null,
   "metadata": {},
   "outputs": [],
   "source": []
  },
  {
   "cell_type": "markdown",
   "metadata": {},
   "source": [
    "## 2. Check Number either positive, negative or zero"
   ]
  },
  {
   "cell_type": "markdown",
   "metadata": {},
   "source": [
    "#### Write a Python program to check if a number is positive, negative or zero\n",
    "###### Program Console Sample Output 1:\n",
    "###### Enter Number: -1\n",
    "##### Negative Number Entered\n",
    "###### Program Console Sample Output 2:\n",
    "##### Integer: 3\n",
    "##### Positive Number Entered\n",
    "###### Program Console Sample Output 3:\n",
    "##### Integer: 0\n",
    "###### Zero Entered"
   ]
  },
  {
   "cell_type": "code",
   "execution_count": 6,
   "metadata": {},
   "outputs": [
    {
     "name": "stdout",
     "output_type": "stream",
     "text": [
      "ENTER THE NUMBER:-1\n",
      "IT IS A NEGATIVE NUMBER:\n"
     ]
    }
   ],
   "source": [
    "number=int(input(\"ENTER THE NUMBER:\"))\n",
    "if number<0:\n",
    "    print(\"IT IS A NEGATIVE NUMBER:\")\n",
    "elif number>0:\n",
    "    print(\"IT IS A POSITIVE NUMBER:\")\n",
    "else:\n",
    "    print(\"YOU ENTER ZERO VALUE:\")"
   ]
  },
  {
   "cell_type": "code",
   "execution_count": 7,
   "metadata": {},
   "outputs": [
    {
     "name": "stdout",
     "output_type": "stream",
     "text": [
      "ENTER THE NUMBER:2\n",
      "IT IS A POSITIVE NUMBER:\n"
     ]
    }
   ],
   "source": [
    "number=int(input(\"ENTER THE NUMBER:\"))\n",
    "if number<0:\n",
    "    print(\"IT IS A NEGATIVE NUMBER:\")\n",
    "elif number>0:\n",
    "    print(\"IT IS A POSITIVE NUMBER:\")\n",
    "else:\n",
    "    print(\"YOU ENTER ZERO VALUE:\")"
   ]
  },
  {
   "cell_type": "code",
   "execution_count": 8,
   "metadata": {},
   "outputs": [
    {
     "name": "stdout",
     "output_type": "stream",
     "text": [
      "ENTER THE NUMBER:0\n",
      "YOU ENTER ZERO VALUE:\n"
     ]
    }
   ],
   "source": [
    "number=int(input(\"ENTER THE NUMBER:\"))\n",
    "if number<0:\n",
    "    print(\"IT IS A NEGATIVE NUMBER:\")\n",
    "elif number>0:\n",
    "    print(\"IT IS A POSITIVE NUMBER:\")\n",
    "else:\n",
    "    print(\"YOU ENTER ZERO VALUE:\")"
   ]
  },
  {
   "cell_type": "code",
   "execution_count": null,
   "metadata": {},
   "outputs": [],
   "source": []
  },
  {
   "cell_type": "markdown",
   "metadata": {},
   "source": [
    "## 3. Divisibility Check of two numbers"
   ]
  },
  {
   "cell_type": "markdown",
   "metadata": {},
   "source": [
    "#### Write a Python program to check whether a number is completely divisible by another number. Accept two integer values form the user\n",
    "##### Program Console Sample Output 1:\n",
    "###### Enter numerator: 4\n",
    "###### Enter Denominator: 2\n",
    "##### Number 4 is Completely divisible by 2\n",
    "###### Program Console Sample Output 2:\n",
    "##### Enter numerator: 7\n",
    "\n",
    "##### Enter Denominator: 4\n",
    "###### Number 7 is not Completely divisible by 4"
   ]
  },
  {
   "cell_type": "code",
   "execution_count": 19,
   "metadata": {},
   "outputs": [
    {
     "name": "stdout",
     "output_type": "stream",
     "text": [
      "ENTER NUMERATOR VALUE:4\n",
      "ENTER THE DENOMINATOR VALUE:2\n",
      "4 NUMBER IS COMPLETELY DIVISBLY BY 2\n"
     ]
    }
   ],
   "source": [
    "a=int(input(\"ENTER NUMERATOR VALUE:\"))\n",
    "b=int(input(\"ENTER THE DENOMINATOR VALUE:\"))\n",
    "if a % b==0:\n",
    "    print(a,\"NUMBER IS COMPLETELY DIVISBLY BY\",b)\n",
    "else:\n",
    "      print(a,\"NUMBER IS NOT COMPLETELY DIVISIBLE BY\",b)"
   ]
  },
  {
   "cell_type": "code",
   "execution_count": 20,
   "metadata": {},
   "outputs": [
    {
     "name": "stdout",
     "output_type": "stream",
     "text": [
      "ENTER NUMERATOR VALUE:6\n",
      "ENTER THE DENOMINATOR VALUE:8\n",
      "6 NUMBER IS NOT COMPLETELY DIVISIBLE BY 8\n"
     ]
    }
   ],
   "source": [
    "a=int(input(\"ENTER NUMERATOR VALUE:\"))\n",
    "b=int(input(\"ENTER THE DENOMINATOR VALUE:\"))\n",
    "if a % b==0:\n",
    "    print(a,\"NUMBER IS COMPLETELY DIVISBLY BY\",b)\n",
    "else:\n",
    "      print(a,\"NUMBER IS NOT COMPLETELY DIVISIBLE BY\",b)"
   ]
  },
  {
   "cell_type": "code",
   "execution_count": null,
   "metadata": {},
   "outputs": [],
   "source": []
  },
  {
   "cell_type": "code",
   "execution_count": null,
   "metadata": {},
   "outputs": [],
   "source": []
  },
  {
   "cell_type": "code",
   "execution_count": null,
   "metadata": {},
   "outputs": [],
   "source": []
  },
  {
   "cell_type": "code",
   "execution_count": null,
   "metadata": {},
   "outputs": [],
   "source": []
  },
  {
   "cell_type": "markdown",
   "metadata": {},
   "source": [
    "## 4. Calculate Volume of a sphere"
   ]
  },
  {
   "cell_type": "markdown",
   "metadata": {},
   "source": [
    "##### Write a Python program to get the volume of a sphere, please take the radius as input from user"
   ]
  },
  {
   "cell_type": "markdown",
   "metadata": {},
   "source": [
    "##### Program Console Output:\n",
    "##### Enter Radius of Sphere: 1\n",
    "###### Volume of the Sphere with Radius 1 is 4.18"
   ]
  },
  {
   "cell_type": "code",
   "execution_count": 37,
   "metadata": {},
   "outputs": [
    {
     "name": "stdout",
     "output_type": "stream",
     "text": [
      "ENTER THE VALUE OF RADIUS OF SPHERE:2\n",
      "VOLUME OF THE SPHERE WITH RADIUS 2.0 IS 33.49333333333333\n"
     ]
    }
   ],
   "source": [
    "m=float(input(\"ENTER THE VALUE OF RADIUS OF SPHERE:\"))\n",
    "n=(4/3*(3.14 * m**3))\n",
    "print(\"VOLUME OF THE SPHERE WITH RADIUS\",m,\"IS\",n)\n"
   ]
  },
  {
   "cell_type": "code",
   "execution_count": null,
   "metadata": {},
   "outputs": [],
   "source": []
  },
  {
   "cell_type": "code",
   "execution_count": null,
   "metadata": {},
   "outputs": [],
   "source": []
  },
  {
   "cell_type": "code",
   "execution_count": null,
   "metadata": {},
   "outputs": [],
   "source": []
  },
  {
   "cell_type": "code",
   "execution_count": null,
   "metadata": {},
   "outputs": [],
   "source": []
  },
  {
   "cell_type": "markdown",
   "metadata": {},
   "source": [
    "## 5. Copy string n times\n",
    "#### Write a Python program to get a string which is n (non-negative integer) copies of a given string.\n",
    "##### Program Console Output:\n",
    "##### Enter String: Hi\n",
    "###### How many copies of String you need: 4\n",
    "###### 4 Copies of Hi are HiHiHiHi"
   ]
  },
  {
   "cell_type": "code",
   "execution_count": 43,
   "metadata": {},
   "outputs": [
    {
     "name": "stdout",
     "output_type": "stream",
     "text": [
      "ENTER THE STRINGsafdar\n",
      "HOW MANY COPIES DO YOU NEED:5\n",
      "5 COPIES OF  safdar ARE  safdarsafdarsafdarsafdarsafdar\n"
     ]
    }
   ],
   "source": [
    "name=str(input(\"ENTER THE STRING\"))\n",
    "number=int(input(\"HOW MANY COPIES DO YOU NEED:\"))\n",
    "S=name*number\n",
    "print(number,\"COPIES OF \",name,\"ARE \",S)"
   ]
  },
  {
   "cell_type": "code",
   "execution_count": null,
   "metadata": {},
   "outputs": [],
   "source": []
  },
  {
   "cell_type": "code",
   "execution_count": null,
   "metadata": {},
   "outputs": [],
   "source": []
  },
  {
   "cell_type": "code",
   "execution_count": null,
   "metadata": {},
   "outputs": [],
   "source": []
  },
  {
   "cell_type": "code",
   "execution_count": null,
   "metadata": {},
   "outputs": [],
   "source": []
  },
  {
   "cell_type": "markdown",
   "metadata": {},
   "source": [
    "## 6. Check if number is Even or Odd\n",
    "### Write a Python program to find whether a given number (accept from the user) is even or odd, print out an appropriate message to the user\n",
    "#### Program Console Output 1:\n",
    "##### Enter Number: 4\n",
    "###### 4 is Even\n",
    "#### Program Console Output 2:\n",
    "##### Enter Number: 9\n",
    "###### 9 is Odd"
   ]
  },
  {
   "cell_type": "code",
   "execution_count": 45,
   "metadata": {},
   "outputs": [
    {
     "name": "stdout",
     "output_type": "stream",
     "text": [
      "ENTER THE VALUE:6\n",
      " IS EVEN NUMBER\n"
     ]
    }
   ],
   "source": [
    "nbr=int(input(\"ENTER THE VALUE:\"))\n",
    "if nbr%2==0:\n",
    "    print(\" IS EVEN NUMBER\")\n",
    "else:\n",
    "    print(\"IS ODD NUMBER\")\n"
   ]
  },
  {
   "cell_type": "code",
   "execution_count": 46,
   "metadata": {},
   "outputs": [
    {
     "name": "stdout",
     "output_type": "stream",
     "text": [
      "ENTER THE VALUE:5\n",
      "IS ODD NUMBER\n"
     ]
    }
   ],
   "source": [
    "nbr=int(input(\"ENTER THE VALUE:\"))\n",
    "if nbr%2==0:\n",
    "    print(\" IS EVEN NUMBER\")\n",
    "else:\n",
    "    print(\"IS ODD NUMBER\")\n"
   ]
  },
  {
   "cell_type": "code",
   "execution_count": null,
   "metadata": {},
   "outputs": [],
   "source": []
  },
  {
   "cell_type": "code",
   "execution_count": null,
   "metadata": {},
   "outputs": [],
   "source": []
  },
  {
   "cell_type": "code",
   "execution_count": null,
   "metadata": {},
   "outputs": [],
   "source": []
  },
  {
   "cell_type": "markdown",
   "metadata": {},
   "source": [
    "## 7. Vowel Tester\n",
    "### Write a Python program to test whether a passed letter is a vowel or not\n",
    "#### Program Console Output 1:\n",
    "##### Enter a character: A\n",
    "###### Letter A is Vowel\n",
    "#### Program Console Output 2:\n",
    "##### Enter a character: e\n",
    "###### Letter e is Vowel\n",
    "#### Program Console Output 2:\n",
    "##### Enter a character: N\n",
    "###### Letter N is not Vowel"
   ]
  },
  {
   "cell_type": "code",
   "execution_count": 51,
   "metadata": {},
   "outputs": [
    {
     "name": "stdout",
     "output_type": "stream",
     "text": [
      "ENTER ANY ALPHABAT:A\n",
      "A IS A VOWEL:\n"
     ]
    }
   ],
   "source": [
    "char=input(\"ENTER ANY ALPHABAT:\")\n",
    "if(char==\"A\" or char==\"E\" or char==\"I\" or char==\"O\"or char==\"U\"or char==\"a\" or char==\"e\" or char==\"i\"or char==\"o\" or char==\"u\"):\n",
    "    print(char, \"IS A VOWEL:\")\n",
    "else:\n",
    "    print(char,\"IS NOT A VOWEL:\")"
   ]
  },
  {
   "cell_type": "code",
   "execution_count": 52,
   "metadata": {},
   "outputs": [
    {
     "name": "stdout",
     "output_type": "stream",
     "text": [
      "ENTER ANY ALPHABAT:a\n",
      "a IS A VOWEL:\n"
     ]
    }
   ],
   "source": [
    "char=input(\"ENTER ANY ALPHABAT:\")\n",
    "if(char==\"A\" or char==\"E\" or char==\"I\" or char==\"O\"or char==\"U\"or char==\"a\" or char==\"e\" or char==\"i\"or char==\"o\" or char==\"u\"):\n",
    "    print(char, \"IS A VOWEL:\")\n",
    "else:\n",
    "    print(char,\"IS NOT A VOWEL:\")"
   ]
  },
  {
   "cell_type": "code",
   "execution_count": 53,
   "metadata": {},
   "outputs": [
    {
     "name": "stdout",
     "output_type": "stream",
     "text": [
      "ENTER ANY ALPHABAT:N\n",
      "N IS NOT A VOWEL:\n"
     ]
    }
   ],
   "source": [
    "char=input(\"ENTER ANY ALPHABAT:\")\n",
    "if(char==\"A\" or char==\"E\" or char==\"I\" or char==\"O\"or char==\"U\"or char==\"a\" or char==\"e\" or char==\"i\"or char==\"o\" or char==\"u\"):\n",
    "    print(char, \"IS A VOWEL:\")\n",
    "else:\n",
    "    print(char,\"IS NOT A VOWEL:\")"
   ]
  },
  {
   "cell_type": "code",
   "execution_count": null,
   "metadata": {},
   "outputs": [],
   "source": []
  },
  {
   "cell_type": "markdown",
   "metadata": {},
   "source": [
    "## 8. Triangle area\n",
    "### Write a Python program that will accept the base and height of a triangle and compute the area\n",
    "###### Reference:\n",
    "https://www.mathgoodies.com/lessons/vol1/area_triangle"
   ]
  },
  {
   "cell_type": "code",
   "execution_count": 56,
   "metadata": {},
   "outputs": [
    {
     "name": "stdout",
     "output_type": "stream",
     "text": [
      "ENTER TRIANGLE BASE VALUE: 5\n",
      "ENTER TRIANGLE HEIGHT VALUE: 5\n",
      "THE AREA OF A TRIANGLE IS 12.5\n"
     ]
    }
   ],
   "source": [
    "base=int(input(\"ENTER TRIANGLE BASE VALUE: \"))\n",
    "height=int(input(\"ENTER TRIANGLE HEIGHT VALUE: \"))\n",
    "C=base*height/2\n",
    "print(\"THE AREA OF A TRIANGLE IS\",C)"
   ]
  },
  {
   "cell_type": "code",
   "execution_count": null,
   "metadata": {},
   "outputs": [],
   "source": []
  },
  {
   "cell_type": "code",
   "execution_count": null,
   "metadata": {},
   "outputs": [],
   "source": []
  },
  {
   "cell_type": "code",
   "execution_count": null,
   "metadata": {},
   "outputs": [],
   "source": []
  },
  {
   "cell_type": "markdown",
   "metadata": {},
   "source": [
    "## 9. Calculate Interest\n",
    "### Write a Python program to compute the future value of a specified principal amount, rate of interest, and a number of years\n",
    "#### Program Console Sample 1:\n",
    "##### Please enter principal amount: 10000\n",
    "###### Please Enter Rate of interest in %: 0.1\n",
    "###### Enter number of years for investment: 5\n",
    "###### After 5 years your principal amount 10000 over an interest rate of 0.1 % will be 16105.1"
   ]
  },
  {
   "cell_type": "code",
   "execution_count": 63,
   "metadata": {},
   "outputs": [
    {
     "name": "stdout",
     "output_type": "stream",
     "text": [
      "PLEASE ENTR PRINCIPAL AMOUNT: 1000\n",
      "PLEASE ENTER THE RATE OF INTEREST IN %: 0.1\n",
      "ENTER THE NUMBER OF YEAR OF INVESTMENT: 5\n",
      "AFTER 5 YEARS YOUR INTEREST RATE OF 0.1 WILL BE 1610.5100000000002\n"
     ]
    }
   ],
   "source": [
    "x=int(input(\"PLEASE ENTR PRINCIPAL AMOUNT: \"))\n",
    "y=float(input(\"PLEASE ENTER THE RATE OF INTEREST IN %: \"))\n",
    "z=int(input(\"ENTER THE NUMBER OF YEAR OF INVESTMENT: \"))\n",
    "for i in range(z):\n",
    "    x= x * (1+y)\n",
    "print(\"AFTER\",z,\"YEARS YOUR INTEREST RATE OF\",y,\"WILL BE\",x)"
   ]
  },
  {
   "cell_type": "code",
   "execution_count": null,
   "metadata": {},
   "outputs": [],
   "source": []
  },
  {
   "cell_type": "code",
   "execution_count": null,
   "metadata": {},
   "outputs": [],
   "source": []
  },
  {
   "cell_type": "code",
   "execution_count": null,
   "metadata": {},
   "outputs": [],
   "source": []
  },
  {
   "cell_type": "code",
   "execution_count": null,
   "metadata": {},
   "outputs": [],
   "source": []
  },
  {
   "cell_type": "code",
   "execution_count": null,
   "metadata": {},
   "outputs": [],
   "source": []
  },
  {
   "cell_type": "markdown",
   "metadata": {},
   "source": [
    " 10. Euclidean distance\n",
    "write a Python program to compute the distance between the points (x1, y1) and (x2, y2).\n",
    " Program Console Sample 1:\n",
    " Enter Co-ordinate for x1: 2\n",
    "Enter Co-ordinate for x2: 4\n",
    "Enter Co-ordinate for y1: 4\n",
    "Enter Co-ordinate for y2: 4\n",
    "Distance between points (2, 4) and (4, 4) is 2"
   ]
  },
  {
   "cell_type": "markdown",
   "metadata": {},
   "source": [
    "Reference:\n",
    "https://en.wikipedia.org/wiki/Euclidean_distance"
   ]
  },
  {
   "cell_type": "code",
   "execution_count": 67,
   "metadata": {},
   "outputs": [
    {
     "name": "stdout",
     "output_type": "stream",
     "text": [
      "ENTER CO-ORDINATE FOR X1: 2\n",
      "ENTER CO-ORDINATE FOR X2: 4\n",
      "ENTER CO-ORDINATE FOR Y1: 4\n",
      "ENTER CO-ORDINATE FOR Y2: 4\n",
      "DISTANCE BETWEEN POINTS ( 2  ,  4 )and ( 4  ,  4 ) IS : 2.0\n"
     ]
    }
   ],
   "source": [
    "import math\n",
    "x1=int(input(\"ENTER CO-ORDINATE FOR X1: \"))\n",
    "x2=int(input(\"ENTER CO-ORDINATE FOR X2: \"))\n",
    "y1=int(input(\"ENTER CO-ORDINATE FOR Y1: \"))\n",
    "y2=int(input(\"ENTER CO-ORDINATE FOR Y2: \"))\n",
    "formula=math.sqrt( ((x1-y1)**2)+((x2-y2)**2))\n",
    "print(\"DISTANCE BETWEEN POINTS (\",x1,\" , \",y1,\")and (\",x2,\" , \",y2,\") IS :\",formula)\n",
    "\n"
   ]
  },
  {
   "cell_type": "code",
   "execution_count": null,
   "metadata": {},
   "outputs": [],
   "source": []
  },
  {
   "cell_type": "code",
   "execution_count": null,
   "metadata": {},
   "outputs": [],
   "source": []
  },
  {
   "cell_type": "code",
   "execution_count": null,
   "metadata": {},
   "outputs": [],
   "source": []
  },
  {
   "cell_type": "markdown",
   "metadata": {},
   "source": [
    "## 11. Feet to Centimeter Converter\n",
    "### Write a Python program to convert height in feet to centimetres.\n",
    "##### Program Console Sample 1:\n",
    "###### Enter Height in Feet: 5\n",
    "###### There are 152.4 Cm in 5 ft\n",
    "###### Reference:\n",
    "https://www.rapidtables.com/convert/length/feet-to-cm.html"
   ]
  },
  {
   "cell_type": "code",
   "execution_count": null,
   "metadata": {},
   "outputs": [],
   "source": [
    "ft=int(input(\"ENTER THE HEIGHT IN FEET: \"))\n",
    "cm=30.48\n",
    "cal=cm*ft\n",
    "print(\"THERE ARE\",cal,\"CM IN\",ft,\"FT\")"
   ]
  },
  {
   "cell_type": "code",
   "execution_count": null,
   "metadata": {},
   "outputs": [],
   "source": []
  },
  {
   "cell_type": "code",
   "execution_count": null,
   "metadata": {},
   "outputs": [],
   "source": []
  },
  {
   "cell_type": "code",
   "execution_count": null,
   "metadata": {},
   "outputs": [],
   "source": []
  },
  {
   "cell_type": "markdown",
   "metadata": {},
   "source": [
    "12. BMI Calculator\n",
    "Write a Python program to calculate body mass index\n",
    "Program Console Sample 1:\n",
    "Enter Height in Cm: 180\n",
    "Enter Weight in Kg: 75\n",
    "Your BMI is 23.15"
   ]
  },
  {
   "cell_type": "code",
   "execution_count": 1,
   "metadata": {},
   "outputs": [
    {
     "name": "stdout",
     "output_type": "stream",
     "text": [
      "ENTER HEIGHT IN CM: 180\n",
      "ENTER WEIGHT IN KG: 75\n",
      "YOUR BMI IS:  23.148148148148145\n"
     ]
    }
   ],
   "source": [
    "hg=int(input(\"ENTER HEIGHT IN CM: \"))\n",
    "a=hg/100\n",
    "wg=int(input(\"ENTER WEIGHT IN KG: \"))\n",
    "c=wg/(a*a)\n",
    "print(\"YOUR BMI IS: \",c)"
   ]
  },
  {
   "cell_type": "code",
   "execution_count": null,
   "metadata": {},
   "outputs": [],
   "source": []
  },
  {
   "cell_type": "code",
   "execution_count": null,
   "metadata": {},
   "outputs": [],
   "source": []
  },
  {
   "cell_type": "markdown",
   "metadata": {},
   "source": [
    "13. Sum of n Positive Integers\n",
    "Write a python program to sum of the first n positive integers\n",
    " Program Console Sample 1:\n",
    " Enter value of n: 5\n",
    " Sum of n Positive integers till 5 is 15"
   ]
  },
  {
   "cell_type": "code",
   "execution_count": 2,
   "metadata": {},
   "outputs": [
    {
     "name": "stdout",
     "output_type": "stream",
     "text": [
      "ENTER THE VALUE OF N: 5\n",
      "SUM OF N POSITIVE INTEGER till 5 is 15.0\n"
     ]
    }
   ],
   "source": [
    "n=int(input(\"ENTER THE VALUE OF N: \"))\n",
    "c=(n*(n+1))/2\n",
    "print(\"SUM OF N POSITIVE INTEGER till\",n,\"is\",c)"
   ]
  },
  {
   "cell_type": "code",
   "execution_count": null,
   "metadata": {},
   "outputs": [],
   "source": []
  },
  {
   "cell_type": "code",
   "execution_count": null,
   "metadata": {},
   "outputs": [],
   "source": []
  },
  {
   "cell_type": "markdown",
   "metadata": {},
   "source": [
    "## 14. Digits Sum of a Number\n",
    "### Write a Python program to calculate the sum of the digits in an integer\n",
    "#### Program Console Sample 1:\n",
    "##### Enter a number: 15\n",
    "###### Sum of 1 + 5 is 6\n",
    "#### Program Console Sample 2:\n",
    "##### Enter a number: 1234\n",
    "###### Sum of 1 + 2 + 3 + 4 is 10"
   ]
  },
  {
   "cell_type": "code",
   "execution_count": 5,
   "metadata": {},
   "outputs": [
    {
     "name": "stdout",
     "output_type": "stream",
     "text": [
      "ENTER A NUMBER: 55555\n",
      "THE SUM OF: 25\n"
     ]
    }
   ],
   "source": [
    "nbr=map(int,str(input((\"ENTER A NUMBER: \"))))\n",
    "print(\"THE SUM OF:\",sum(nbr))"
   ]
  },
  {
   "cell_type": "code",
   "execution_count": null,
   "metadata": {},
   "outputs": [],
   "source": []
  },
  {
   "cell_type": "code",
   "execution_count": null,
   "metadata": {},
   "outputs": [],
   "source": []
  },
  {
   "cell_type": "code",
   "execution_count": null,
   "metadata": {},
   "outputs": [],
   "source": []
  },
  {
   "cell_type": "code",
   "execution_count": null,
   "metadata": {},
   "outputs": [],
   "source": []
  },
  {
   "cell_type": "code",
   "execution_count": null,
   "metadata": {},
   "outputs": [],
   "source": []
  },
  {
   "cell_type": "code",
   "execution_count": null,
   "metadata": {},
   "outputs": [],
   "source": []
  },
  {
   "cell_type": "code",
   "execution_count": null,
   "metadata": {},
   "outputs": [],
   "source": []
  }
 ],
 "metadata": {
  "kernelspec": {
   "display_name": "Python 3",
   "language": "python",
   "name": "python3"
  },
  "language_info": {
   "codemirror_mode": {
    "name": "ipython",
    "version": 3
   },
   "file_extension": ".py",
   "mimetype": "text/x-python",
   "name": "python",
   "nbconvert_exporter": "python",
   "pygments_lexer": "ipython3",
   "version": "3.7.3"
  }
 },
 "nbformat": 4,
 "nbformat_minor": 2
}
